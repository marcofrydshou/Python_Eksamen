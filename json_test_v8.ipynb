{
 "cells": [
  {
   "cell_type": "code",
   "execution_count": 11,
   "metadata": {
    "scrolled": false
   },
   "outputs": [],
   "source": [
    "import urllib.request, json \n",
    "import json\n",
    "import numpy as np\n",
    "import pycountry as pc\n",
    "import pandas as pd\n",
    "import csv\n",
    "import itertools\n",
    "\n",
    "\n"
   ]
  },
  {
   "cell_type": "code",
   "execution_count": 19,
   "metadata": {},
   "outputs": [
    {
     "name": "stdout",
     "output_type": "stream",
     "text": [
      "<class 'set'>\n",
      "{'Guam': 163943, 'Central%20African%20Republic': 4665025, 'Albania': 2881160, 'Costa%20Rica': 4680597, 'Switzerland': 8072097, 'Georgia': 4109907, 'Tunisia': 10942439, 'Libya': 6274712, 'Jamaica': 2768114, 'Malawi': 15944869, 'Montenegro': 624275, 'Ethiopia': 93378602, 'Mozambique': 26100257, 'Honduras': 7793160, 'Guinea-Bissau': 1735853, 'Puerto%20Rico': 3692890, 'Iceland': 324433, 'Indonesia': 249666167, 'Colombia': 47115236, 'Maldives': 347974, 'French%20Polynesia': 275272, 'Myanmar': 52764071, 'Suriname': 531016, 'Mali': 16352320, 'Peru': 30365522, 'Bosnia%20and%20Herzegovina': 3825986, 'Croatia': 4279134, 'Pakistan': 179299402, 'Guatemala': 15530564, 'United%20States': 315980703, 'Jordan': 7107496, 'Djibouti': 858828, 'Italy': 59756012, 'Botswana': 2154777, 'Chad': 12930301, 'South%20Africa': 53129981, 'Mauritania': 3824995, 'Solomon%20Islands': 554798, 'Armenia': 2985060, 'Sri%20Lanka': 20472286, 'Niger': 17992695, 'Benin': 10186533, 'Somalia': 10150182, 'Poland': 38614754, 'Antigua%20and%20Barbuda': 89530, 'Zambia': 15013941, 'Rwanda': 10948115, 'Serbia': 8958167, 'Saudi%20Arabia': 29851811, 'Ukraine': 45240248, 'Nigeria': 170530420, 'Finland': 5439070, 'Lesotho': 2070130, 'Cuba': 11352634, 'Uganda': 35985008, 'Togo': 6835559, 'Estonia': 1322026, 'Seychelles': 94866, 'Malta': 416207, 'Western%20Sahara': 543700, 'Madagascar': 22609081, 'Latvia': 2024138, 'Cameroon': 21935701, 'Canada': 35051051, 'Bangladesh': 156210473, 'Brunei%20Darussalam': 408535, 'Belize': 340479, 'Nepal': 27668050, 'Denmark': 5612862, 'Turkey': 75541735, 'Senegal': 14000856, 'Sao%20Tome%20and%20Principe': 180455, 'Spain': 46553081, 'Liberia': 4242789, 'Qatar': 2061317, 'Czech%20Republic': 10546149, 'Aruba': 102656, 'Haiti': 10360715, 'Turkmenistan': 5207419, 'Hungary': 9941544, 'South%20Sudan': 11219348, 'Nicaragua': 5911999, 'Equatorial%20Guinea': 785413, 'Eritrea': 4945372, 'United%20Arab%20Emirates': 9006275, 'Singapore': 5353109, 'El%20Salvador': 6080883, 'Mongolia': 2833769, 'Philippines': 96794445, 'United%20Kingdom': 63769073, 'Cyprus': 1135558, 'Comoros': 742697, 'Namibia': 2318972, 'Brazil': 203342335, 'Uruguay': 3402313, 'Thailand': 67311712, 'Martinique': 395358, 'Mayotte': 224253, 'Iraq': 33531220, 'Vanuatu': 250348, 'Romania': 19870574, 'Luxembourg': 538775, 'Mexico': 122914842, 'Lebanon': 5107423, 'Ecuador': 15541182, 'Israel': 7757068, 'Azerbaijan': 9429670, 'Burundi': 10295103, 'Oman': 3728160, 'Bhutan': 749285, 'Cambodia': 14955433, 'Kazakhstan': 16960952, 'Bahrain': 1342516, 'India': 1271630121, 'Mauritius': 1260999, 'Fiji': 877401, 'Panama': 3774624, 'Malaysia': 29246098, 'Algeria': 37812804, 'Gabon': 1631956, 'Grenada': 105686, 'Australia': 23093130, 'Bulgaria': 7277916, 'Afghanistan': 30206627, 'Congo': 4340463, 'Guinea': 11788814, 'Samoa': 189663, 'Sierra%20Leone': 6112689, 'Portugal': 10484000, 'Slovenia': 2063988, 'Barbados': 282054, 'Angola': 23066819, 'Swaziland': 1241077, 'Morocco': 33218577, 'Japan': 127063358, 'Uzbekistan': 28813633, 'Papua%20New%20Guinea': 7233500, 'Belgium': 11116527, 'Tajikistan': 8018947, 'Timor-Leste': 1115614, 'Guyana': 759705, 'New%20Zealand': 4450604, 'Dominican%20Republic': 10218718, 'Austria': 8471354, 'Tonga': 104914, 'Kenya': 43118982, 'Kuwait': 3508549, 'Burkina%20Faso': 16837944, 'Ireland': 4670269, 'Kiribati': 107586, 'Sudan': 38113206, 'Chile': 17482537, 'Trinidad%20and%20Tobago': 1344888, 'Paraguay': 6421545, 'New%20Caledonia': 254815, 'Germany': 80519251, 'Ghana': 25855970, 'Sweden': 9583430, 'France': 63703719, 'Lithuania': 2989433, 'Belarus': 9494029, 'French%20Guiana': 250735, 'Zimbabwe': 14730626, 'Greece': 11082710, 'Guadeloupe': 462235, 'Argentina': 42318079, 'Russian%20Federation': 143327817, 'China': 1358996659, 'Norway': 5051176}\n"
     ]
    }
   ],
   "source": [
    "#EXTRACTING DATA AND CONVERTING IT TO A 1-DIMENSIONAL ARRAY\n",
    "\n",
    "with urllib.request.urlopen(\"http://api.population.io:80/1.0/countries\") as url:\n",
    "    slash = \"/\"\n",
    "    api_data = json.loads(url.read().decode())\n",
    "    twoD_data = np.array(list(api_data.values())) #turns the dictionary into a 2D array\n",
    "    all_countries = twoD_data.ravel()\n",
    "    country_ready_for_fetch = []\n",
    "    \n",
    "    #print(all_countries)\n",
    "    \n",
    "#FORMATTING COUNTRIES FOR URL-CALLS LATER\n",
    "    \n",
    "country_code_data = pd.read_csv('https://pkgstore.datahub.io/core/country-list/data_csv/data/d7c9d7cfb42cb69f4422dec222dbbaa8/data_csv.csv')\n",
    "df1 = country_code_data[['Name','Code']]\n",
    "country_and_countrycodes = df1.values\n",
    "\n",
    "#print(country_and_countrycodes)\n",
    "\n",
    "chained_country_list = set(itertools.chain.from_iterable(country_and_countrycodes)) & set(all_countries)\n",
    "print(type(chained_country_list))\n",
    "\n",
    "for country in chained_country_list:\n",
    "    try:\n",
    "        if '/' not in country:\n",
    "            j = country.replace(\" \",\"%20\")\n",
    "            country_ready_for_fetch.append(j)\n",
    "                \n",
    "    except AttributeError:\n",
    "        pass\n",
    "    \n",
    "#print(country_ready_for_fetch)\n",
    "\n",
    "#EXTRACTING THE POPULATION DATA\n",
    "\n",
    "date = '/2013-01-01'\n",
    "\n",
    "country_population = []\n",
    "\n",
    "for population in country_ready_for_fetch:\n",
    "    url = \"http://api.population.io:80/1.0/population/\"\n",
    "\n",
    "    with urllib.request.urlopen(url + population + date) as url:\n",
    "        data = json.loads(url.read().decode())\n",
    "        #print(population)\n",
    "        country_population.append(population)\n",
    "        country_population.append(data)\n",
    "        \n",
    "        \n",
    "\n",
    "        \n",
    "#print(country_population)\n",
    "\n",
    "\n",
    "#Vi kalder forkert på api'en da en af vores lister indeholder forkert data: \"'ASIA','Least%20developed%20countries'\" yada yada.\n",
    "#Find en løsning til hvordan vi får de forkerte værdier ud af vores lister, så vi kan kalde på api'en kun med lande, og ikke\n",
    "#alt mulig andet\n",
    "\n",
    "\n",
    "\n",
    "result = {}\n",
    "\n",
    "for i in range(0, len(country_population), 2):\n",
    "    result[country_population[i]] = country_population[i+1]['total_population']['population']\n",
    "\n",
    "print(result)\n"
   ]
  },
  {
   "cell_type": "code",
   "execution_count": null,
   "metadata": {},
   "outputs": [],
   "source": []
  },
  {
   "cell_type": "code",
   "execution_count": null,
   "metadata": {},
   "outputs": [],
   "source": []
  },
  {
   "cell_type": "code",
   "execution_count": null,
   "metadata": {},
   "outputs": [],
   "source": []
  }
 ],
 "metadata": {
  "kernelspec": {
   "display_name": "Python 3",
   "language": "python",
   "name": "python3"
  },
  "language_info": {
   "codemirror_mode": {
    "name": "ipython",
    "version": 3
   },
   "file_extension": ".py",
   "mimetype": "text/x-python",
   "name": "python",
   "nbconvert_exporter": "python",
   "pygments_lexer": "ipython3",
   "version": "3.6.4"
  }
 },
 "nbformat": 4,
 "nbformat_minor": 2
}
