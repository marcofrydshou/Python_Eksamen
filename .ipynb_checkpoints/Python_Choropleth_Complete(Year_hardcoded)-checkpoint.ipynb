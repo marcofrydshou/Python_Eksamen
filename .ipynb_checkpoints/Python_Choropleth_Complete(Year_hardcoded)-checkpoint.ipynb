{
 "cells": [
  {
   "cell_type": "code",
   "execution_count": 1,
   "metadata": {},
   "outputs": [],
   "source": [
    "import urllib.request, json \n",
    "import json\n",
    "import numpy as np\n",
    "#import pycountry as pc\n",
    "import pandas as pd\n",
    "import csv\n",
    "import itertools\n",
    "import plotly.plotly as py\n",
    "from plotly.offline import download_plotlyjs, init_notebook_mode, plot, iplot\n",
    "import plotly.graph_objs as go"
   ]
  },
  {
   "cell_type": "code",
   "execution_count": 22,
   "metadata": {},
   "outputs": [
    {
     "data": {
      "text/html": [
       "<script>requirejs.config({paths: { 'plotly': ['https://cdn.plot.ly/plotly-latest.min']},});if(!window.Plotly) {{require(['plotly'],function(plotly) {window.Plotly=plotly;});}}</script>"
      ],
      "text/vnd.plotly.v1+html": [
       "<script>requirejs.config({paths: { 'plotly': ['https://cdn.plot.ly/plotly-latest.min']},});if(!window.Plotly) {{require(['plotly'],function(plotly) {window.Plotly=plotly;});}}</script>"
      ]
     },
     "metadata": {},
     "output_type": "display_data"
    },
    {
     "ename": "NameError",
     "evalue": "name 'country_and_countrycodes' is not defined",
     "output_type": "error",
     "traceback": [
      "\u001b[0;31m---------------------------------------------------------------------------\u001b[0m",
      "\u001b[0;31mNameError\u001b[0m                                 Traceback (most recent call last)",
      "\u001b[0;32m<ipython-input-22-de23577dfe1d>\u001b[0m in \u001b[0;36m<module>\u001b[0;34m()\u001b[0m\n\u001b[1;32m     17\u001b[0m \u001b[0;34m\u001b[0m\u001b[0m\n\u001b[1;32m     18\u001b[0m \u001b[0;34m\u001b[0m\u001b[0m\n\u001b[0;32m---> 19\u001b[0;31m \u001b[0mchained_country_list\u001b[0m \u001b[0;34m=\u001b[0m \u001b[0mset\u001b[0m\u001b[0;34m(\u001b[0m\u001b[0mitertools\u001b[0m\u001b[0;34m.\u001b[0m\u001b[0mchain\u001b[0m\u001b[0;34m.\u001b[0m\u001b[0mfrom_iterable\u001b[0m\u001b[0;34m(\u001b[0m\u001b[0mcountry_and_countrycodes\u001b[0m\u001b[0;34m)\u001b[0m\u001b[0;34m)\u001b[0m \u001b[0;34m&\u001b[0m \u001b[0mset\u001b[0m\u001b[0;34m(\u001b[0m\u001b[0mall_countries\u001b[0m\u001b[0;34m)\u001b[0m\u001b[0;34m\u001b[0m\u001b[0m\n\u001b[0m\u001b[1;32m     20\u001b[0m \u001b[0;34m\u001b[0m\u001b[0m\n\u001b[1;32m     21\u001b[0m \u001b[0;32mfor\u001b[0m \u001b[0mcountry\u001b[0m \u001b[0;32min\u001b[0m \u001b[0mchained_country_list\u001b[0m\u001b[0;34m:\u001b[0m\u001b[0;34m\u001b[0m\u001b[0m\n",
      "\u001b[0;31mNameError\u001b[0m: name 'country_and_countrycodes' is not defined"
     ]
    }
   ],
   "source": [
    "init_notebook_mode(connected=True)\n",
    "\n",
    "#EXTRACTING DATA AND CONVERTING IT TO A 1-DIMENSIONAL ARRAY\n",
    "\n",
    "with urllib.request.urlopen(\"http://api.population.io:80/1.0/countries\") as url:\n",
    "    slash = \"/\"\n",
    "    api_data = json.loads(url.read().decode())\n",
    "    twoD_data = np.array(list(api_data.values())) #turns the dictionary into a 2D array\n",
    "    all_countries = twoD_data.ravel()\n",
    "    country_ready_for_fetch = []\n",
    "    \n",
    "#FORMATTING COUNTRIES FOR URL-CALLS LATER\n",
    "    \n",
    "\n",
    "country_and_countryCodes_csv = pd.read_csv(\"http://kejser.org/wp-content/uploads/2014/06/Country.csv\", delimiter='|')\n",
    "country_and_countryCodes = country_and_countryCodes_csv[[\"CountryName\",\"Alpha3Code\"]]\n",
    "\n",
    "\n",
    "chained_country_list = set(itertools.chain.from_iterable(country_and_countrycodes)) & set(all_countries)\n",
    "\n",
    "for country in chained_country_list:\n",
    "    try:\n",
    "        if '/' not in country:\n",
    "            j = country.replace(\" \",\"%20\")\n",
    "            country_ready_for_fetch.append(j)\n",
    "                \n",
    "    except AttributeError:\n",
    "        pass\n",
    "    \n",
    "#EXTRACTING THE POPULATION DATA\n",
    "year = \"/2013\"\n",
    "date = year + '-01-01'\n",
    "\n",
    "country_population = []\n",
    "\n",
    "for country in country_ready_for_fetch:\n",
    "    url = \"http://api.population.io:80/1.0/population/\"\n",
    "\n",
    "    with urllib.request.urlopen(url + country + date) as url:\n",
    "        data = json.loads(url.read().decode())\n",
    "        country_population.append(country)\n",
    "        country_population.append(data)\n",
    "\n",
    "result = {}\n",
    "\n",
    "for i in range(0, len(country_population), 2):\n",
    "    result[country_population[i]] = country_population[i+1]['total_population']['population']\n",
    "    \n",
    "result = {key.replace('%20', ' '): value for key, value in result.items()}\n",
    "\n",
    "\n",
    "l = np.array(country_and_countrycodes).tolist()\n",
    "\n",
    "\n",
    "for i in l:\n",
    "    i.append(result.get(i[0]))\n",
    "     \n",
    "\n",
    "df = pd.DataFrame(l)\n",
    "df.columns = ['Country','CountryCode','Population']\n",
    "df['CountryCode'] = df['CountryCode'].str.upper()\n",
    "\n",
    "\n",
    "\n",
    "data = dict(type = 'choropleth', \n",
    "           locations = df['CountryCode'],\n",
    "           z = df['Population'],\n",
    "           text = df['Country'],\n",
    "           colorbar = dict(title = 'Population in thousands'))\n",
    "\n",
    "layout = dict(title = '2013 global Population', \n",
    "             geo = dict(showframe = False,\n",
    "                       projection = {'type': 'stereographic'}))\n",
    "\n",
    "choromap3 = go.Figure(data = [data], layout = layout)\n",
    "\n",
    "\n",
    "plot(choromap3)\n",
    "\n",
    "\n"
   ]
  },
  {
   "cell_type": "code",
   "execution_count": null,
   "metadata": {},
   "outputs": [],
   "source": []
  },
  {
   "cell_type": "code",
   "execution_count": null,
   "metadata": {},
   "outputs": [],
   "source": []
  }
 ],
 "metadata": {
  "kernelspec": {
   "display_name": "Python 3",
   "language": "python",
   "name": "python3"
  },
  "language_info": {
   "codemirror_mode": {
    "name": "ipython",
    "version": 3
   },
   "file_extension": ".py",
   "mimetype": "text/x-python",
   "name": "python",
   "nbconvert_exporter": "python",
   "pygments_lexer": "ipython3",
   "version": "3.6.4"
  }
 },
 "nbformat": 4,
 "nbformat_minor": 2
}
