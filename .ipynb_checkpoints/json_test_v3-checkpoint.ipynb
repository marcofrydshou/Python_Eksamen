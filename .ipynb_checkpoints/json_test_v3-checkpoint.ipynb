{
 "cells": [
  {
   "cell_type": "code",
   "execution_count": 2,
   "metadata": {
    "scrolled": false
   },
   "outputs": [],
   "source": [
    "import urllib.request, json \n",
    "import json\n",
    "import numpy as np\n",
    "import pycountry as pc"
   ]
  },
  {
   "cell_type": "code",
   "execution_count": 15,
   "metadata": {},
   "outputs": [],
   "source": [
    "with urllib.request.urlopen(\"http://api.population.io:80/1.0/countries\") as url:\n",
    "    slash = \"/\"\n",
    "    data = json.loads(url.read().decode())\n",
    "    twoD_data = np.array(list(data.values()))  # Turns the dictionary into a 2D array\n",
    "    all_countries = twoD_data.ravel()\n",
    "    cleancountry = [] \n",
    "\n",
    "    for word in all_countries:\n",
    "        if '/' not in word:\n",
    "            cleancountry.append(word)\n",
    "            \n",
    "            #print(newcountry)\n",
    "    \n",
    "    \n",
    "\n",
    "#print(cleancountry)\n",
    "    \n",
    "    # Using ravel to flatten the 2D array into a normal array\n",
    "   # print( all_countries)"
   ]
  },
  {
   "cell_type": "code",
   "execution_count": 20,
   "metadata": {},
   "outputs": [],
   "source": [
    "input_countries =  cleancountry\n",
    "\n",
    "countries = {}\n",
    "for country in pc.countries:\n",
    "    countries[country.name] = country.alpha2\n",
    "\n",
    "countryCodes = [countries.get(country, 'Unknown code') for country in input_countries]\n",
    "\n",
    "#print (countryCodes)"
   ]
  },
  {
   "cell_type": "code",
   "execution_count": null,
   "metadata": {},
   "outputs": [],
   "source": [
    "date = '/2015-12-24'\n",
    "country = 'AFRICA/'\n",
    "url = \"http://api.population.io:80/1.0/population/\"\n",
    "#with urllib.request.urlopen(url + country + date) as url:\n",
    "   # data = json.loads(url.read().decode())\n",
    "   # print(data)\n",
    "   # print(data['total_population']['population'])\n",
    "    \n",
    "countryInfo =[]\n",
    "countries_all=[]\n",
    "    \n",
    "for i in cleancountry:\n",
    "    j = i.replace(\" \", \"%20\")\n",
    "   \n",
    "    \n",
    "    countries_all.append(j)\n",
    "    \n",
    "\n",
    "\n",
    "for fetchCountry in countries_all:\n",
    "    url = \"http://api.population.io:80/1.0/population/\"\n",
    "\n",
    "    with urllib.request.urlopen(url + fetchCountry + date) as url:\n",
    "        data = json.loads(url.read().decode())\n",
    "      \n",
    "        countryInfo.append(fetchCountry)\n",
    "        countryInfo.append(data)\n",
    "print(countryInfo)\n",
    "    \n",
    "    \n",
    "  "
   ]
  },
  {
   "cell_type": "code",
   "execution_count": null,
   "metadata": {},
   "outputs": [],
   "source": [
    "\n",
    "countrycodes_clean = []\n",
    "\n",
    "for word in countryCodes:\n",
    "        if 'Unknown code' not in word:\n",
    "            countrycodes_clean.append(word)\n",
    "#len(country_dictionary_clean)\n",
    "#print(country_dictionary_clean)\n",
    "keys = countries_all\n",
    "values = countrycodes_clean\n",
    "country_dictionary = dict(zip(keys, values))\n",
    "print(country_dictionary)\n",
    "len(country_dictionary)\n",
    "\n",
    "\n",
    "\n",
    "\n"
   ]
  },
  {
   "cell_type": "code",
   "execution_count": null,
   "metadata": {},
   "outputs": [],
   "source": []
  },
  {
   "cell_type": "code",
   "execution_count": null,
   "metadata": {},
   "outputs": [],
   "source": []
  },
  {
   "cell_type": "code",
   "execution_count": null,
   "metadata": {},
   "outputs": [],
   "source": []
  }
 ],
 "metadata": {
  "kernelspec": {
   "display_name": "Python 3",
   "language": "python",
   "name": "python3"
  }
 },
 "nbformat": 4,
 "nbformat_minor": 2
}
