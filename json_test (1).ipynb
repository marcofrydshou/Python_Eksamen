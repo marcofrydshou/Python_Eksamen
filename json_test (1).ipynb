{
 "cells": [
  {
   "cell_type": "code",
   "execution_count": 5,
   "metadata": {
    "scrolled": false
   },
   "outputs": [],
   "source": [
    "import urllib.request, json \n",
    "import json\n",
    "import numpy as np"
   ]
  },
  {
   "cell_type": "code",
   "execution_count": 9,
   "metadata": {},
   "outputs": [
    {
     "name": "stdout",
     "output_type": "stream",
     "text": [
      "['Afghanistan' 'AFRICA' 'Albania' 'Algeria' 'Angola' 'Antigua and Barbuda'\n",
      " 'Arab Rep of Egypt' 'Argentina' 'Armenia' 'Aruba' 'ASIA' 'Australia'\n",
      " 'Australia/New Zealand' 'Austria' 'Azerbaijan' 'The Bahamas' 'Bahrain'\n",
      " 'Bangladesh' 'Barbados' 'Belarus' 'Belgium' 'Belize' 'Benin' 'Bhutan'\n",
      " 'Bolivia' 'Bosnia and Herzegovina' 'Botswana' 'Brazil'\n",
      " 'Brunei Darussalam' 'Bulgaria' 'Burkina Faso' 'Burundi' 'Cote-d-Ivoire'\n",
      " 'Cabo Verde' 'Cambodia' 'Cameroon' 'Canada' 'Caribbean'\n",
      " 'Central African Republic' 'Central America' 'Central Asia' 'Chad'\n",
      " 'Channel Islands' 'Chile' 'China' 'Hong Kong SAR-China' 'Macao SAR China'\n",
      " 'Colombia' 'Comoros' 'Congo' 'Costa Rica' 'Croatia' 'Cuba' 'Curacao'\n",
      " 'Cyprus' 'Czech Republic' 'Dem Peoples Rep of Korea' 'Dem Rep of Congo'\n",
      " 'Denmark' 'Djibouti' 'Dominican Republic' 'Eastern Africa' 'Eastern Asia'\n",
      " 'Eastern Europe' 'Ecuador' 'El Salvador' 'Equatorial Guinea' 'Eritrea'\n",
      " 'Estonia' 'Ethiopia' 'EUROPE' 'Federated States of Micronesia' 'Fiji'\n",
      " 'Finland' 'France' 'French Guiana' 'French Polynesia' 'FYR Macedonia'\n",
      " 'Gabon' 'The Gambia' 'Georgia' 'Germany' 'Ghana' 'Greece' 'Grenada'\n",
      " 'Guadeloupe' 'Guam' 'Guatemala' 'Guinea' 'Guinea-Bissau' 'Guyana' 'Haiti'\n",
      " 'Honduras' 'Hungary' 'Iceland' 'India' 'Indonesia'\n",
      " 'Islamic Republic of Iran' 'Iraq' 'Ireland' 'Israel' 'Italy' 'Jamaica'\n",
      " 'Japan' 'Jordan' 'Kazakhstan' 'Kenya' 'Kiribati' 'Kuwait'\n",
      " 'Kyrgyz Republic' 'Lao PDR' 'LATIN AMERICA AND THE CARIBBEAN' 'Latvia'\n",
      " 'Least developed countries' 'Lebanon' 'Lesotho' 'Less developed regions'\n",
      " 'Less developed regions, excluding China'\n",
      " 'Less developed regions, excluding least developed countries' 'Liberia'\n",
      " 'Libya' 'Lithuania' 'Luxembourg' 'Madagascar' 'Malawi' 'Malaysia'\n",
      " 'Maldives' 'Mali' 'Malta' 'Martinique' 'Mauritania' 'Mauritius' 'Mayotte'\n",
      " 'Melanesia' 'Mexico' 'Micronesia' 'Middle Africa' 'Moldova' 'Mongolia'\n",
      " 'Montenegro' 'More developed regions' 'Morocco' 'Mozambique' 'Myanmar'\n",
      " 'Namibia' 'Nepal' 'The Netherlands' 'New Caledonia' 'New Zealand'\n",
      " 'Nicaragua' 'Niger' 'Nigeria' 'Northern Africa' 'NORTHERN AMERICA'\n",
      " 'Northern Europe' 'Norway' 'OCEANIA' 'Oman' 'Other non-specified areas'\n",
      " 'Pakistan' 'Panama' 'Papua New Guinea' 'Paraguay' 'Peru' 'Philippines'\n",
      " 'Poland' 'Polynesia' 'Portugal' 'Puerto Rico' 'Qatar' 'Reunion'\n",
      " 'RB-de-Venezuela' 'Rep of Korea' 'Rep of Yemen' 'Romania'\n",
      " 'Russian Federation' 'Rwanda' 'St-Lucia' 'St-Vincent and the Grenadines'\n",
      " 'Samoa' 'Sao Tome and Principe' 'Saudi Arabia' 'Senegal' 'Serbia'\n",
      " 'Seychelles' 'Sierra Leone' 'Singapore' 'Slovak Republic' 'Slovenia'\n",
      " 'Solomon Islands' 'Somalia' 'South Africa' 'South America' 'South Sudan'\n",
      " 'South-Central Asia' 'South-Eastern Asia' 'Southern Africa'\n",
      " 'Southern Asia' 'Southern Europe' 'Spain' 'Sri Lanka'\n",
      " 'West Bank and Gaza' 'Sub-Saharan Africa' 'Sudan' 'Suriname' 'Swaziland'\n",
      " 'Sweden' 'Switzerland' 'Syrian Arab Rep' 'Tajikistan' 'Tanzania'\n",
      " 'Thailand' 'Timor-Leste' 'Togo' 'Tonga' 'Trinidad and Tobago' 'Tunisia'\n",
      " 'Turkey' 'Turkmenistan' 'Uganda' 'Ukraine' 'United Arab Emirates'\n",
      " 'United Kingdom' 'United States' 'US Virgin Islands' 'Uruguay'\n",
      " 'Uzbekistan' 'Vanuatu' 'Vietnam' 'Western Africa' 'Western Asia'\n",
      " 'Western Europe' 'Western Sahara' 'World' 'Zambia' 'Zimbabwe']\n"
     ]
    }
   ],
   "source": [
    "with urllib.request.urlopen(\"http://api.population.io:80/1.0/countries\") as url:\n",
    "    data = json.loads(url.read().decode())\n",
    "    twoD_data = np.array(list(data.values()))  # Turns the dictionary into a 2D array\n",
    "    oneD_data = twoD_data.ravel()              # Using ravel to flatten the 2D array into a normal array\n",
    "    print(oneD_data)"
   ]
  },
  {
   "cell_type": "code",
   "execution_count": 4,
   "metadata": {},
   "outputs": [
    {
     "name": "stdout",
     "output_type": "stream",
     "text": [
      "{'total_population': {'date': '2015-12-24', 'population': 208679204}}\n",
      "208679204\n"
     ]
    }
   ],
   "source": [
    "date = '2015-12-24'\n",
    "country = 'Brazil/'\n",
    "url = \"http://api.population.io:80/1.0/population/\"\n",
    "with urllib.request.urlopen(url + country + date) as url:\n",
    "    data = json.loads(url.read().decode())\n",
    "    print(data)\n",
    "    print(data['total_population']['population'])\n",
    "  "
   ]
  },
  {
   "cell_type": "code",
   "execution_count": null,
   "metadata": {},
   "outputs": [],
   "source": []
  },
  {
   "cell_type": "code",
   "execution_count": null,
   "metadata": {},
   "outputs": [],
   "source": []
  }
 ],
 "metadata": {
  "kernelspec": {
   "display_name": "Python 3",
   "language": "python",
   "name": "python3"
  },
  "language_info": {
   "codemirror_mode": {
    "name": "ipython",
    "version": 3
   },
   "file_extension": ".py",
   "mimetype": "text/x-python",
   "name": "python",
   "nbconvert_exporter": "python",
   "pygments_lexer": "ipython3",
   "version": "3.6.4"
  }
 },
 "nbformat": 4,
 "nbformat_minor": 2
}
