{
 "cells": [
  {
   "cell_type": "code",
   "execution_count": 2,
   "metadata": {
    "scrolled": false
   },
   "outputs": [],
   "source": [
    "import urllib.request, json \n",
    "import json\n",
    "import numpy as np\n",
    "import pycountry as pc"
   ]
  },
  {
   "cell_type": "code",
   "execution_count": 3,
   "metadata": {},
   "outputs": [],
   "source": [
    "with urllib.request.urlopen(\"http://api.population.io:80/1.0/countries\") as url:\n",
    "    data = json.loads(url.read().decode())\n",
    "    twoD_data = np.array(list(data.values()))  # Turns the dictionary into a 2D array\n",
    "    all_countries = twoD_data.ravel()              # Using ravel to flatten the 2D array into a normal array\n",
    "    #print( all_countries)"
   ]
  },
  {
   "cell_type": "code",
   "execution_count": 4,
   "metadata": {},
   "outputs": [
    {
     "name": "stdout",
     "output_type": "stream",
     "text": [
      "['AF', 'Unknown code', 'AL', 'DZ', 'AO', 'AG', 'Unknown code', 'AR', 'AM', 'AW', 'Unknown code', 'AU', 'Unknown code', 'AT', 'AZ', 'Unknown code', 'BH', 'BD', 'BB', 'BY', 'BE', 'BZ', 'BJ', 'BT', 'Unknown code', 'BA', 'BW', 'BR', 'BN', 'BG', 'BF', 'BI', 'Unknown code', 'Unknown code', 'KH', 'CM', 'CA', 'Unknown code', 'CF', 'Unknown code', 'Unknown code', 'TD', 'Unknown code', 'CL', 'CN', 'Unknown code', 'Unknown code', 'CO', 'KM', 'CG', 'CR', 'HR', 'CU', 'Unknown code', 'CY', 'CZ', 'Unknown code', 'Unknown code', 'DK', 'DJ', 'DO', 'Unknown code', 'Unknown code', 'Unknown code', 'EC', 'SV', 'GQ', 'ER', 'EE', 'ET', 'Unknown code', 'Unknown code', 'FJ', 'FI', 'FR', 'GF', 'PF', 'Unknown code', 'GA', 'Unknown code', 'GE', 'DE', 'GH', 'GR', 'GD', 'GP', 'GU', 'GT', 'GN', 'GW', 'GY', 'HT', 'HN', 'HU', 'IS', 'IN', 'ID', 'Unknown code', 'IQ', 'IE', 'IL', 'IT', 'JM', 'JP', 'JO', 'KZ', 'KE', 'KI', 'KW', 'Unknown code', 'Unknown code', 'Unknown code', 'LV', 'Unknown code', 'LB', 'LS', 'Unknown code', 'Unknown code', 'Unknown code', 'LR', 'LY', 'LT', 'LU', 'MG', 'MW', 'MY', 'MV', 'ML', 'MT', 'MQ', 'MR', 'MU', 'YT', 'Unknown code', 'MX', 'Unknown code', 'Unknown code', 'Unknown code', 'MN', 'ME', 'Unknown code', 'MA', 'MZ', 'MM', 'NA', 'NP', 'Unknown code', 'NC', 'NZ', 'NI', 'NE', 'NG', 'Unknown code', 'Unknown code', 'Unknown code', 'NO', 'Unknown code', 'OM', 'Unknown code', 'PK', 'PA', 'PG', 'PY', 'PE', 'PH', 'PL', 'Unknown code', 'PT', 'PR', 'QA', 'Unknown code', 'Unknown code', 'Unknown code', 'Unknown code', 'RO', 'RU', 'RW', 'Unknown code', 'Unknown code', 'WS', 'ST', 'SA', 'SN', 'RS', 'SC', 'SL', 'SG', 'Unknown code', 'SI', 'SB', 'SO', 'ZA', 'Unknown code', 'SS', 'Unknown code', 'Unknown code', 'Unknown code', 'Unknown code', 'Unknown code', 'ES', 'LK', 'Unknown code', 'Unknown code', 'SD', 'SR', 'SZ', 'SE', 'CH', 'Unknown code', 'TJ', 'Unknown code', 'TH', 'TL', 'TG', 'TO', 'TT', 'TN', 'TR', 'TM', 'UG', 'UA', 'AE', 'GB', 'US', 'Unknown code', 'UY', 'UZ', 'VU', 'Unknown code', 'Unknown code', 'Unknown code', 'Unknown code', 'EH', 'Unknown code', 'ZM', 'ZW']\n"
     ]
    }
   ],
   "source": [
    "input_countries =  all_countries\n",
    "\n",
    "countries = {}\n",
    "for country in pc.countries:\n",
    "    countries[country.name] = country.alpha2\n",
    "\n",
    "countryCodes = [countries.get(country, 'Unknown code') for country in input_countries]\n",
    "\n",
    "print (countryCodes)"
   ]
  },
  {
   "cell_type": "code",
   "execution_count": 7,
   "metadata": {},
   "outputs": [
    {
     "name": "stdout",
     "output_type": "stream",
     "text": [
      "{'total_population': {'date': '2015-12-24', 'population': 1200511894}}\n",
      "1200511894\n"
     ]
    }
   ],
   "source": [
    "date = '2015-12-24'\n",
    "country = 'AFRICA/'\n",
    "url = \"http://api.population.io:80/1.0/population/\"\n",
    "with urllib.request.urlopen(url + country + date) as url:\n",
    "    data = json.loads(url.read().decode())\n",
    "    print(data)\n",
    "    print(data['total_population']['population'])\n",
    "  "
   ]
  },
  {
   "cell_type": "code",
   "execution_count": 1,
   "metadata": {},
   "outputs": [
    {
     "ename": "NameError",
     "evalue": "name 'all_countries' is not defined",
     "output_type": "error",
     "traceback": [
      "\u001b[0;31m---------------------------------------------------------------------------\u001b[0m",
      "\u001b[0;31mNameError\u001b[0m                                 Traceback (most recent call last)",
      "\u001b[0;32m<ipython-input-1-063fb70e5907>\u001b[0m in \u001b[0;36m<module>\u001b[0;34m()\u001b[0m\n\u001b[0;32m----> 1\u001b[0;31m \u001b[0mlist\u001b[0m \u001b[0;34m(\u001b[0m\u001b[0mzip\u001b[0m \u001b[0;34m(\u001b[0m\u001b[0mall_countries\u001b[0m\u001b[0;34m,\u001b[0m\u001b[0mcountryCodes\u001b[0m\u001b[0;34m)\u001b[0m\u001b[0;34m)\u001b[0m\u001b[0;34m\u001b[0m\u001b[0m\n\u001b[0m",
      "\u001b[0;31mNameError\u001b[0m: name 'all_countries' is not defined"
     ]
    }
   ],
   "source": [
    "list (zip (all_countries,countryCodes))"
   ]
  },
  {
   "cell_type": "code",
   "execution_count": null,
   "metadata": {},
   "outputs": [],
   "source": []
  }
 ],
 "metadata": {
  "kernelspec": {
   "display_name": "Python 3",
   "language": "python",
   "name": "python3"
  },
  "language_info": {
   "codemirror_mode": {
    "name": "ipython",
    "version": 3
   },
   "file_extension": ".py",
   "mimetype": "text/x-python",
   "name": "python",
   "nbconvert_exporter": "python",
   "pygments_lexer": "ipython3",
   "version": "3.6.4"
  }
 },
 "nbformat": 4,
 "nbformat_minor": 2
}
