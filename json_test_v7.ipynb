{
 "cells": [
  {
   "cell_type": "code",
   "execution_count": 11,
   "metadata": {
    "scrolled": false
   },
   "outputs": [],
   "source": [
    "import urllib.request, json \n",
    "import json\n",
    "import numpy as np\n",
    "import pycountry as pc\n",
    "import pandas as pd\n",
    "import csv\n",
    "import itertools\n",
    "\n",
    "\n"
   ]
  },
  {
   "cell_type": "code",
   "execution_count": 12,
   "metadata": {},
   "outputs": [
    {
     "name": "stdout",
     "output_type": "stream",
     "text": [
      "<class 'set'>\n",
      "['Guam', {'total_population': {'date': '2013-01-01', 'population': 163943}}, 'Central%20African%20Republic', {'total_population': {'date': '2013-01-01', 'population': 4665025}}, 'Albania', {'total_population': {'date': '2013-01-01', 'population': 2881160}}, 'Costa%20Rica', {'total_population': {'date': '2013-01-01', 'population': 4680597}}, 'Switzerland', {'total_population': {'date': '2013-01-01', 'population': 8072097}}, 'Georgia', {'total_population': {'date': '2013-01-01', 'population': 4109907}}, 'Tunisia', {'total_population': {'date': '2013-01-01', 'population': 10942439}}, 'Libya', {'total_population': {'date': '2013-01-01', 'population': 6274712}}, 'Jamaica', {'total_population': {'date': '2013-01-01', 'population': 2768114}}, 'Malawi', {'total_population': {'date': '2013-01-01', 'population': 15944869}}, 'Montenegro', {'total_population': {'date': '2013-01-01', 'population': 624275}}, 'Ethiopia', {'total_population': {'date': '2013-01-01', 'population': 93378602}}, 'Mozambique', {'total_population': {'date': '2013-01-01', 'population': 26100257}}, 'Honduras', {'total_population': {'date': '2013-01-01', 'population': 7793160}}, 'Guinea-Bissau', {'total_population': {'date': '2013-01-01', 'population': 1735853}}, 'Puerto%20Rico', {'total_population': {'date': '2013-01-01', 'population': 3692890}}, 'Iceland', {'total_population': {'date': '2013-01-01', 'population': 324433}}, 'Indonesia', {'total_population': {'date': '2013-01-01', 'population': 249666167}}, 'Colombia', {'total_population': {'date': '2013-01-01', 'population': 47115236}}, 'Maldives', {'total_population': {'date': '2013-01-01', 'population': 347974}}, 'French%20Polynesia', {'total_population': {'date': '2013-01-01', 'population': 275272}}, 'Myanmar', {'total_population': {'date': '2013-01-01', 'population': 52764071}}, 'Suriname', {'total_population': {'date': '2013-01-01', 'population': 531016}}, 'Mali', {'total_population': {'date': '2013-01-01', 'population': 16352320}}, 'Peru', {'total_population': {'date': '2013-01-01', 'population': 30365522}}, 'Bosnia%20and%20Herzegovina', {'total_population': {'date': '2013-01-01', 'population': 3825986}}, 'Croatia', {'total_population': {'date': '2013-01-01', 'population': 4279134}}, 'Pakistan', {'total_population': {'date': '2013-01-01', 'population': 179299402}}, 'Guatemala', {'total_population': {'date': '2013-01-01', 'population': 15530564}}, 'United%20States', {'total_population': {'date': '2013-01-01', 'population': 315980703}}, 'Jordan', {'total_population': {'date': '2013-01-01', 'population': 7107496}}, 'Djibouti', {'total_population': {'date': '2013-01-01', 'population': 858828}}, 'Italy', {'total_population': {'date': '2013-01-01', 'population': 59756012}}, 'Botswana', {'total_population': {'date': '2013-01-01', 'population': 2154777}}, 'Chad', {'total_population': {'date': '2013-01-01', 'population': 12930301}}, 'South%20Africa', {'total_population': {'date': '2013-01-01', 'population': 53129981}}, 'Mauritania', {'total_population': {'date': '2013-01-01', 'population': 3824995}}, 'Solomon%20Islands', {'total_population': {'date': '2013-01-01', 'population': 554798}}, 'Armenia', {'total_population': {'date': '2013-01-01', 'population': 2985060}}, 'Sri%20Lanka', {'total_population': {'date': '2013-01-01', 'population': 20472286}}, 'Niger', {'total_population': {'date': '2013-01-01', 'population': 17992695}}, 'Benin', {'total_population': {'date': '2013-01-01', 'population': 10186533}}, 'Somalia', {'total_population': {'date': '2013-01-01', 'population': 10150182}}, 'Poland', {'total_population': {'date': '2013-01-01', 'population': 38614754}}, 'Antigua%20and%20Barbuda', {'total_population': {'date': '2013-01-01', 'population': 89530}}, 'Zambia', {'total_population': {'date': '2013-01-01', 'population': 15013941}}, 'Rwanda', {'total_population': {'date': '2013-01-01', 'population': 10948115}}, 'Serbia', {'total_population': {'date': '2013-01-01', 'population': 8958167}}, 'Saudi%20Arabia', {'total_population': {'date': '2013-01-01', 'population': 29851811}}, 'Ukraine', {'total_population': {'date': '2013-01-01', 'population': 45240248}}, 'Nigeria', {'total_population': {'date': '2013-01-01', 'population': 170530420}}, 'Finland', {'total_population': {'date': '2013-01-01', 'population': 5439070}}, 'Lesotho', {'total_population': {'date': '2013-01-01', 'population': 2070130}}, 'Cuba', {'total_population': {'date': '2013-01-01', 'population': 11352634}}, 'Uganda', {'total_population': {'date': '2013-01-01', 'population': 35985008}}, 'Togo', {'total_population': {'date': '2013-01-01', 'population': 6835559}}, 'Estonia', {'total_population': {'date': '2013-01-01', 'population': 1322026}}, 'Seychelles', {'total_population': {'date': '2013-01-01', 'population': 94866}}, 'Malta', {'total_population': {'date': '2013-01-01', 'population': 416207}}, 'Western%20Sahara', {'total_population': {'date': '2013-01-01', 'population': 543700}}, 'Madagascar', {'total_population': {'date': '2013-01-01', 'population': 22609081}}, 'Latvia', {'total_population': {'date': '2013-01-01', 'population': 2024138}}, 'Cameroon', {'total_population': {'date': '2013-01-01', 'population': 21935701}}, 'Canada', {'total_population': {'date': '2013-01-01', 'population': 35051051}}, 'Bangladesh', {'total_population': {'date': '2013-01-01', 'population': 156210473}}, 'Brunei%20Darussalam', {'total_population': {'date': '2013-01-01', 'population': 408535}}, 'Belize', {'total_population': {'date': '2013-01-01', 'population': 340479}}, 'Nepal', {'total_population': {'date': '2013-01-01', 'population': 27668050}}, 'Denmark', {'total_population': {'date': '2013-01-01', 'population': 5612862}}, 'Turkey', {'total_population': {'date': '2013-01-01', 'population': 75541735}}, 'Senegal', {'total_population': {'date': '2013-01-01', 'population': 14000856}}, 'Sao%20Tome%20and%20Principe', {'total_population': {'date': '2013-01-01', 'population': 180455}}, 'Spain', {'total_population': {'date': '2013-01-01', 'population': 46553081}}, 'Liberia', {'total_population': {'date': '2013-01-01', 'population': 4242789}}, 'Qatar', {'total_population': {'date': '2013-01-01', 'population': 2061317}}, 'Czech%20Republic', {'total_population': {'date': '2013-01-01', 'population': 10546149}}, 'Aruba', {'total_population': {'date': '2013-01-01', 'population': 102656}}, 'Haiti', {'total_population': {'date': '2013-01-01', 'population': 10360715}}, 'Turkmenistan', {'total_population': {'date': '2013-01-01', 'population': 5207419}}, 'Hungary', {'total_population': {'date': '2013-01-01', 'population': 9941544}}, 'South%20Sudan', {'total_population': {'date': '2013-01-01', 'population': 11219348}}, 'Nicaragua', {'total_population': {'date': '2013-01-01', 'population': 5911999}}, 'Equatorial%20Guinea', {'total_population': {'date': '2013-01-01', 'population': 785413}}, 'Eritrea', {'total_population': {'date': '2013-01-01', 'population': 4945372}}, 'United%20Arab%20Emirates', {'total_population': {'date': '2013-01-01', 'population': 9006275}}, 'Singapore', {'total_population': {'date': '2013-01-01', 'population': 5353109}}, 'El%20Salvador', {'total_population': {'date': '2013-01-01', 'population': 6080883}}, 'Mongolia', {'total_population': {'date': '2013-01-01', 'population': 2833769}}, 'Philippines', {'total_population': {'date': '2013-01-01', 'population': 96794445}}, 'United%20Kingdom', {'total_population': {'date': '2013-01-01', 'population': 63769073}}, 'Cyprus', {'total_population': {'date': '2013-01-01', 'population': 1135558}}, 'Comoros', {'total_population': {'date': '2013-01-01', 'population': 742697}}, 'Namibia', {'total_population': {'date': '2013-01-01', 'population': 2318972}}, 'Brazil', {'total_population': {'date': '2013-01-01', 'population': 203342335}}, 'Uruguay', {'total_population': {'date': '2013-01-01', 'population': 3402313}}, 'Thailand', {'total_population': {'date': '2013-01-01', 'population': 67311712}}, 'Martinique', {'total_population': {'date': '2013-01-01', 'population': 395358}}, 'Mayotte', {'total_population': {'date': '2013-01-01', 'population': 224253}}, 'Iraq', {'total_population': {'date': '2013-01-01', 'population': 33531220}}, 'Vanuatu', {'total_population': {'date': '2013-01-01', 'population': 250348}}, 'Romania', {'total_population': {'date': '2013-01-01', 'population': 19870574}}, 'Luxembourg', {'total_population': {'date': '2013-01-01', 'population': 538775}}, 'Mexico', {'total_population': {'date': '2013-01-01', 'population': 122914842}}, 'Lebanon', {'total_population': {'date': '2013-01-01', 'population': 5107423}}, 'Ecuador', {'total_population': {'date': '2013-01-01', 'population': 15541182}}, 'Israel', {'total_population': {'date': '2013-01-01', 'population': 7757068}}, 'Azerbaijan', {'total_population': {'date': '2013-01-01', 'population': 9429670}}, 'Burundi', {'total_population': {'date': '2013-01-01', 'population': 10295103}}, 'Oman', {'total_population': {'date': '2013-01-01', 'population': 3728160}}, 'Bhutan', {'total_population': {'date': '2013-01-01', 'population': 749285}}, 'Cambodia', {'total_population': {'date': '2013-01-01', 'population': 14955433}}, 'Kazakhstan', {'total_population': {'date': '2013-01-01', 'population': 16960952}}, 'Bahrain', {'total_population': {'date': '2013-01-01', 'population': 1342516}}, 'India', {'total_population': {'date': '2013-01-01', 'population': 1271630121}}, 'Mauritius', {'total_population': {'date': '2013-01-01', 'population': 1260999}}, 'Fiji', {'total_population': {'date': '2013-01-01', 'population': 877401}}, 'Panama', {'total_population': {'date': '2013-01-01', 'population': 3774624}}, 'Malaysia', {'total_population': {'date': '2013-01-01', 'population': 29246098}}, 'Algeria', {'total_population': {'date': '2013-01-01', 'population': 37812804}}, 'Gabon', {'total_population': {'date': '2013-01-01', 'population': 1631956}}, 'Grenada', {'total_population': {'date': '2013-01-01', 'population': 105686}}, 'Australia', {'total_population': {'date': '2013-01-01', 'population': 23093130}}, 'Bulgaria', {'total_population': {'date': '2013-01-01', 'population': 7277916}}, 'Afghanistan', {'total_population': {'date': '2013-01-01', 'population': 30206627}}, 'Congo', {'total_population': {'date': '2013-01-01', 'population': 4340463}}, 'Guinea', {'total_population': {'date': '2013-01-01', 'population': 11788814}}, 'Samoa', {'total_population': {'date': '2013-01-01', 'population': 189663}}, 'Sierra%20Leone', {'total_population': {'date': '2013-01-01', 'population': 6112689}}, 'Portugal', {'total_population': {'date': '2013-01-01', 'population': 10484000}}, 'Slovenia', {'total_population': {'date': '2013-01-01', 'population': 2063988}}, 'Barbados', {'total_population': {'date': '2013-01-01', 'population': 282054}}, 'Angola', {'total_population': {'date': '2013-01-01', 'population': 23066819}}, 'Swaziland', {'total_population': {'date': '2013-01-01', 'population': 1241077}}, 'Morocco', {'total_population': {'date': '2013-01-01', 'population': 33218577}}, 'Japan', {'total_population': {'date': '2013-01-01', 'population': 127063358}}, 'Uzbekistan', {'total_population': {'date': '2013-01-01', 'population': 28813633}}, 'Papua%20New%20Guinea', {'total_population': {'date': '2013-01-01', 'population': 7233500}}, 'Belgium', {'total_population': {'date': '2013-01-01', 'population': 11116527}}, 'Tajikistan', {'total_population': {'date': '2013-01-01', 'population': 8018947}}, 'Timor-Leste', {'total_population': {'date': '2013-01-01', 'population': 1115614}}, 'Guyana', {'total_population': {'date': '2013-01-01', 'population': 759705}}, 'New%20Zealand', {'total_population': {'date': '2013-01-01', 'population': 4450604}}, 'Dominican%20Republic', {'total_population': {'date': '2013-01-01', 'population': 10218718}}, 'Austria', {'total_population': {'date': '2013-01-01', 'population': 8471354}}, 'Tonga', {'total_population': {'date': '2013-01-01', 'population': 104914}}, 'Kenya', {'total_population': {'date': '2013-01-01', 'population': 43118982}}, 'Kuwait', {'total_population': {'date': '2013-01-01', 'population': 3508549}}, 'Burkina%20Faso', {'total_population': {'date': '2013-01-01', 'population': 16837944}}, 'Ireland', {'total_population': {'date': '2013-01-01', 'population': 4670269}}, 'Kiribati', {'total_population': {'date': '2013-01-01', 'population': 107586}}, 'Sudan', {'total_population': {'date': '2013-01-01', 'population': 38113206}}, 'Chile', {'total_population': {'date': '2013-01-01', 'population': 17482537}}, 'Trinidad%20and%20Tobago', {'total_population': {'date': '2013-01-01', 'population': 1344888}}, 'Paraguay', {'total_population': {'date': '2013-01-01', 'population': 6421545}}, 'New%20Caledonia', {'total_population': {'date': '2013-01-01', 'population': 254815}}, 'Germany', {'total_population': {'date': '2013-01-01', 'population': 80519251}}, 'Ghana', {'total_population': {'date': '2013-01-01', 'population': 25855970}}, 'Sweden', {'total_population': {'date': '2013-01-01', 'population': 9583430}}, 'France', {'total_population': {'date': '2013-01-01', 'population': 63703719}}, 'Lithuania', {'total_population': {'date': '2013-01-01', 'population': 2989433}}, 'Belarus', {'total_population': {'date': '2013-01-01', 'population': 9494029}}, 'French%20Guiana', {'total_population': {'date': '2013-01-01', 'population': 250735}}, 'Zimbabwe', {'total_population': {'date': '2013-01-01', 'population': 14730626}}, 'Greece', {'total_population': {'date': '2013-01-01', 'population': 11082710}}, 'Guadeloupe', {'total_population': {'date': '2013-01-01', 'population': 462235}}, 'Argentina', {'total_population': {'date': '2013-01-01', 'population': 42318079}}, 'Russian%20Federation', {'total_population': {'date': '2013-01-01', 'population': 143327817}}, 'China', {'total_population': {'date': '2013-01-01', 'population': 1358996659}}, 'Norway', {'total_population': {'date': '2013-01-01', 'population': 5051176}}]\n"
     ]
    },
    {
     "ename": "ValueError",
     "evalue": "dictionary update sequence element #0 has length 4; 2 is required",
     "output_type": "error",
     "traceback": [
      "\u001b[1;31m---------------------------------------------------------------------------\u001b[0m",
      "\u001b[1;31mValueError\u001b[0m                                Traceback (most recent call last)",
      "\u001b[1;32m<ipython-input-12-36bbe49ec25b>\u001b[0m in \u001b[0;36m<module>\u001b[1;34m()\u001b[0m\n\u001b[0;32m     51\u001b[0m \u001b[1;33m\u001b[0m\u001b[0m\n\u001b[0;32m     52\u001b[0m \u001b[0mprint\u001b[0m\u001b[1;33m(\u001b[0m\u001b[0mcountry_population\u001b[0m\u001b[1;33m)\u001b[0m\u001b[1;33m\u001b[0m\u001b[0m\n\u001b[1;32m---> 53\u001b[1;33m \u001b[0mdict\u001b[0m\u001b[1;33m(\u001b[0m\u001b[0mcountry_population\u001b[0m\u001b[1;33m)\u001b[0m\u001b[1;33m\u001b[0m\u001b[0m\n\u001b[0m\u001b[0;32m     54\u001b[0m \u001b[1;33m\u001b[0m\u001b[0m\n\u001b[0;32m     55\u001b[0m \u001b[1;33m\u001b[0m\u001b[0m\n",
      "\u001b[1;31mValueError\u001b[0m: dictionary update sequence element #0 has length 4; 2 is required"
     ]
    }
   ],
   "source": [
    "#EXTRACTING DATA AND CONVERTING IT TO A 1-DIMENSIONAL ARRAY\n",
    "\n",
    "with urllib.request.urlopen(\"http://api.population.io:80/1.0/countries\") as url:\n",
    "    slash = \"/\"\n",
    "    api_data = json.loads(url.read().decode())\n",
    "    twoD_data = np.array(list(api_data.values())) #turns the dictionary into a 2D array\n",
    "    all_countries = twoD_data.ravel()\n",
    "    country_ready_for_fetch = []\n",
    "    \n",
    "    #print(all_countries)\n",
    "    \n",
    "#FORMATTING COUNTRIES FOR URL-CALLS LATER\n",
    "    \n",
    "country_code_data = pd.read_csv('https://pkgstore.datahub.io/core/country-list/data_csv/data/d7c9d7cfb42cb69f4422dec222dbbaa8/data_csv.csv')\n",
    "df1 = country_code_data[['Name','Code']]\n",
    "country_and_countrycodes = df1.values\n",
    "\n",
    "#print(country_and_countrycodes)\n",
    "\n",
    "chained_country_list = set(itertools.chain.from_iterable(country_and_countrycodes)) & set(all_countries)\n",
    "print(type(chained_country_list))\n",
    "\n",
    "for country in chained_country_list:\n",
    "    try:\n",
    "        if '/' not in country:\n",
    "            j = country.replace(\" \",\"%20\")\n",
    "            country_ready_for_fetch.append(j)\n",
    "                \n",
    "    except AttributeError:\n",
    "        pass\n",
    "    \n",
    "#print(country_ready_for_fetch)\n",
    "\n",
    "#EXTRACTING THE POPULATION DATA\n",
    "\n",
    "date = '/2013-01-01'\n",
    "\n",
    "country_population = []\n",
    "\n",
    "for population in country_ready_for_fetch:\n",
    "    url = \"http://api.population.io:80/1.0/population/\"\n",
    "\n",
    "    with urllib.request.urlopen(url + population + date) as url:\n",
    "        data = json.loads(url.read().decode())\n",
    "        #print(population)\n",
    "        country_population.append(population)\n",
    "        country_population.append(data)\n",
    "        \n",
    "        \n",
    "\n",
    "        \n",
    "print(country_population)\n",
    "dict(country_population)\n",
    "\n",
    "\n",
    "#Vi kalder forkert på api'en da en af vores lister indeholder forkert data: \"'ASIA','Least%20developed%20countries'\" yada yada.\n",
    "#Find en løsning til hvordan vi får de forkerte værdier ud af vores lister, så vi kan kalde på api'en kun med lande, og ikke\n",
    "#alt mulig andet\n",
    "\n"
   ]
  },
  {
   "cell_type": "code",
   "execution_count": null,
   "metadata": {},
   "outputs": [],
   "source": []
  },
  {
   "cell_type": "code",
   "execution_count": null,
   "metadata": {},
   "outputs": [],
   "source": []
  },
  {
   "cell_type": "code",
   "execution_count": null,
   "metadata": {},
   "outputs": [],
   "source": []
  }
 ],
 "metadata": {
  "kernelspec": {
   "display_name": "Python 3",
   "language": "python",
   "name": "python3"
  },
  "language_info": {
   "codemirror_mode": {
    "name": "ipython",
    "version": 3
   },
   "file_extension": ".py",
   "mimetype": "text/x-python",
   "name": "python",
   "nbconvert_exporter": "python",
   "pygments_lexer": "ipython3",
   "version": "3.6.4"
  }
 },
 "nbformat": 4,
 "nbformat_minor": 2
}
