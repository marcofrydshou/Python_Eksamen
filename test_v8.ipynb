{
 "cells": [
  {
   "cell_type": "code",
   "execution_count": 1,
   "metadata": {
    "scrolled": false
   },
   "outputs": [],
   "source": [
    "import urllib.request, json \n",
    "import json\n",
    "import numpy as np\n",
    "#import pycountry as pc\n",
    "import pandas as pd\n",
    "import csv\n",
    "import itertools"
   ]
  },
  {
   "cell_type": "code",
   "execution_count": 29,
   "metadata": {},
   "outputs": [
    {
     "name": "stdout",
     "output_type": "stream",
     "text": [
      "{'Panama': 3774624, 'Iceland': 324433, 'Chile': 17482537, 'Madagascar': 22609081, 'Costa%20Rica': 4680597, 'Seychelles': 94866, 'Singapore': 5353109, 'Georgia': 4109907, 'Australia': 23093130, 'Saudi%20Arabia': 29851811, 'Western%20Sahara': 543700, 'India': 1271630121, 'Czech%20Republic': 10546149, 'Germany': 80519251, 'Namibia': 2318972, 'Guam': 163943, 'Malawi': 15944869, 'Vanuatu': 250348, 'Bahrain': 1342516, 'Aruba': 102656, 'Indonesia': 249666167, 'Oman': 3728160, 'Iraq': 33531220, 'Cambodia': 14955433, 'Tajikistan': 8018947, 'Kenya': 43118982, 'Kazakhstan': 16960952, 'New%20Caledonia': 254815, 'Barbados': 282054, 'French%20Guiana': 250735, 'Bangladesh': 156210473, 'Bosnia%20and%20Herzegovina': 3825986, 'Jordan': 7107496, 'Italy': 59756012, 'Grenada': 105686, 'Montenegro': 624275, 'Nigeria': 170530420, 'Congo': 4340463, 'Ghana': 25855970, 'United%20Arab%20Emirates': 9006275, 'Comoros': 742697, 'Mongolia': 2833769, 'Senegal': 14000856, 'Nicaragua': 5911999, 'Belarus': 9494029, 'Belgium': 11116527, 'Brunei%20Darussalam': 408535, 'Austria': 8471354, 'Jamaica': 2768114, 'United%20States': 315980703, 'Mexico': 122914842, 'Peru': 30365522, 'South%20Sudan': 11219348, 'Chad': 12930301, 'Cyprus': 1135558, 'Kiribati': 107586, 'Mali': 16352320, 'French%20Polynesia': 275272, 'Switzerland': 8072097, 'Finland': 5439070, 'Zambia': 15013941, 'Afghanistan': 30206627, 'Angola': 23066819, 'Philippines': 96794445, 'Turkmenistan': 5207419, 'Honduras': 7793160, 'Israel': 7757068, 'Paraguay': 6421545, 'Japan': 127063358, 'Pakistan': 179299402, 'Latvia': 2024138, 'Martinique': 395358, 'Guinea': 11788814, 'Lithuania': 2989433, 'Botswana': 2154777, 'Spain': 46553081, 'Sri%20Lanka': 20472286, 'Gabon': 1631956, 'Mozambique': 26100257, 'Burkina%20Faso': 16837944, 'Lebanon': 5107423, 'Lesotho': 2070130, 'Guatemala': 15530564, 'Qatar': 2061317, 'Papua%20New%20Guinea': 7233500, 'Azerbaijan': 9429670, 'Nepal': 27668050, 'Poland': 38614754, 'Guinea-Bissau': 1735853, 'Sao%20Tome%20and%20Principe': 180455, 'Equatorial%20Guinea': 785413, 'Puerto%20Rico': 3692890, 'El%20Salvador': 6080883, 'Ethiopia': 93378602, 'Slovenia': 2063988, 'Russian%20Federation': 143327817, 'Hungary': 9941544, 'Djibouti': 858828, 'Suriname': 531016, 'Togo': 6835559, 'Ecuador': 15541182, 'Colombia': 47115236, 'Eritrea': 4945372, 'China': 1358996659, 'Solomon%20Islands': 554798, 'Tonga': 104914, 'Canada': 35051051, 'Mauritania': 3824995, 'Portugal': 10484000, 'Somalia': 10150182, 'Trinidad%20and%20Tobago': 1344888, 'United%20Kingdom': 63769073, 'Belize': 340479, 'Timor-Leste': 1115614, 'Uganda': 35985008, 'Central%20African%20Republic': 4665025, 'Algeria': 37812804, 'Antigua%20and%20Barbuda': 89530, 'Luxembourg': 538775, 'Benin': 10186533, 'Brazil': 203342335, 'Norway': 5051176, 'Burundi': 10295103, 'Malta': 416207, 'Libya': 6274712, 'Rwanda': 10948115, 'Myanmar': 52764071, 'France': 63703719, 'Swaziland': 1241077, 'Thailand': 67311712, 'Liberia': 4242789, 'Morocco': 33218577, 'South%20Africa': 53129981, 'Cameroon': 21935701, 'Sudan': 38113206, 'Niger': 17992695, 'Armenia': 2985060, 'Tunisia': 10942439, 'Zimbabwe': 14730626, 'Ukraine': 45240248, 'Estonia': 1322026, 'New%20Zealand': 4450604, 'Cuba': 11352634, 'Uzbekistan': 28813633, 'Guadeloupe': 462235, 'Mauritius': 1260999, 'Kuwait': 3508549, 'Argentina': 42318079, 'Greece': 11082710, 'Uruguay': 3402313, 'Turkey': 75541735, 'Samoa': 189663, 'Maldives': 347974, 'Denmark': 5612862, 'Guyana': 759705, 'Mayotte': 224253, 'Serbia': 8958167, 'Albania': 2881160, 'Bhutan': 749285, 'Dominican%20Republic': 10218718, 'Sweden': 9583430, 'Croatia': 4279134, 'Sierra%20Leone': 6112689, 'Bulgaria': 7277916, 'Malaysia': 29246098, 'Romania': 19870574, 'Fiji': 877401, 'Haiti': 10360715, 'Ireland': 4670269}\n"
     ]
    }
   ],
   "source": [
    "#EXTRACTING DATA AND CONVERTING IT TO A 1-DIMENSIONAL ARRAY\n",
    "\n",
    "with urllib.request.urlopen(\"http://api.population.io:80/1.0/countries\") as url:\n",
    "    slash = \"/\"\n",
    "    api_data = json.loads(url.read().decode())\n",
    "    twoD_data = np.array(list(api_data.values())) #turns the dictionary into a 2D array\n",
    "    all_countries = twoD_data.ravel()\n",
    "    country_ready_for_fetch = []\n",
    "    \n",
    "#FORMATTING COUNTRIES FOR URL-CALLS LATER\n",
    "    \n",
    "country_code_data = pd.read_csv('https://pkgstore.datahub.io/core/country-list/data_csv/data/d7c9d7cfb42cb69f4422dec222dbbaa8/data_csv.csv')\n",
    "df1 = country_code_data[['Name','Code']]\n",
    "df2 = country_code_data[['Code']]\n",
    "\n",
    "country_and_countrycodes = df1.values\n",
    "countrycodesTwoD = df2.values\n",
    "countrycodes = countrycodesTwoD.ravel()\n",
    "\n",
    "chained_country_list = set(itertools.chain.from_iterable(country_and_countrycodes)) & set(all_countries)\n",
    "#print(chained_country_list)\n",
    "\n",
    "for country in chained_country_list:\n",
    "    try:\n",
    "        if '/' not in country:\n",
    "            j = country.replace(\" \",\"%20\")\n",
    "            country_ready_for_fetch.append(j)\n",
    "                \n",
    "    except AttributeError:\n",
    "        pass\n",
    "    \n",
    "#print(country_ready_for_fetch)\n",
    "\n",
    "#EXTRACTING THE POPULATION DATA\n",
    "\n",
    "date = '/2013-01-01'\n",
    "\n",
    "country_population = []\n",
    "\n",
    "for population in country_ready_for_fetch:\n",
    "    url = \"http://api.population.io:80/1.0/population/\"\n",
    "\n",
    "    with urllib.request.urlopen(url + population + date) as url:\n",
    "        data = json.loads(url.read().decode())\n",
    "        country_population.append(population)\n",
    "        country_population.append(data)\n",
    "        \n",
    "        \n",
    "\n",
    "        \n",
    "#print(country_population)\n",
    "\n",
    "\n",
    "#Vi kalder forkert på api'en da en af vores lister indeholder forkert data: \"'ASIA','Least%20developed%20countries'\" yada yada.\n",
    "#Find en løsning til hvordan vi får de forkerte værdier ud af vores lister, så vi kan kalde på api'en kun med lande, og ikke\n",
    "#alt mulig andet\n",
    "\n",
    "\n",
    "\n",
    "result = {}\n",
    "\n",
    "for i in range(0, len(country_population), 2):\n",
    "    result[country_population[i]] = country_population[i+1]['total_population']['population']\n",
    "\n",
    "sorted(result)\n",
    "dict(result)\n",
    "print(result)\n",
    "#for key in result:\n",
    "   # print(key)"
   ]
  },
  {
   "cell_type": "code",
   "execution_count": null,
   "metadata": {},
   "outputs": [],
   "source": []
  }
 ],
 "metadata": {
  "kernelspec": {
   "display_name": "Python 3",
   "language": "python",
   "name": "python3"
  },
  "language_info": {
   "codemirror_mode": {
    "name": "ipython",
    "version": 3
   },
   "file_extension": ".py",
   "mimetype": "text/x-python",
   "name": "python",
   "nbconvert_exporter": "python",
   "pygments_lexer": "ipython3",
   "version": "3.6.4"
  }
 },
 "nbformat": 4,
 "nbformat_minor": 2
}
