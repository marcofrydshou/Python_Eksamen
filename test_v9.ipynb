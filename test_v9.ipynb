{
 "cells": [
  {
   "cell_type": "code",
   "execution_count": 42,
   "metadata": {
    "scrolled": false
   },
   "outputs": [],
   "source": [
    "import urllib.request, json \n",
    "import json\n",
    "import numpy as np\n",
    "#import pycountry as pc\n",
    "import pandas as pd\n",
    "import csv\n",
    "import itertools"
   ]
  },
  {
   "cell_type": "code",
   "execution_count": 50,
   "metadata": {},
   "outputs": [
    {
     "name": "stdout",
     "output_type": "stream",
     "text": [
      "[['Afghanistan', 'AF', 30206627], ['Åland Islands', 'AX', None], ['Albania', 'AL', 2881160], ['Algeria', 'DZ', 37812804], ['American Samoa', 'AS', None], ['Andorra', 'AD', None], ['Angola', 'AO', 23066819], ['Anguilla', 'AI', None], ['Antarctica', 'AQ', None], ['Antigua and Barbuda', 'AG', None], ['Argentina', 'AR', 42318079], ['Armenia', 'AM', 2985060], ['Aruba', 'AW', 102656], ['Australia', 'AU', 23093130], ['Austria', 'AT', 8471354], ['Azerbaijan', 'AZ', 9429670], ['Bahamas', 'BS', None], ['Bahrain', 'BH', 1342516], ['Bangladesh', 'BD', 156210473], ['Barbados', 'BB', 282054], ['Belarus', 'BY', 9494029], ['Belgium', 'BE', 11116527], ['Belize', 'BZ', 340479], ['Benin', 'BJ', 10186533], ['Bermuda', 'BM', None], ['Bhutan', 'BT', 749285], ['Bolivia, Plurinational State of', 'BO', None], ['Bonaire, Sint Eustatius and Saba', 'BQ', None], ['Bosnia and Herzegovina', 'BA', None], ['Botswana', 'BW', 2154777], ['Bouvet Island', 'BV', None], ['Brazil', 'BR', 203342335], ['British Indian Ocean Territory', 'IO', None], ['Brunei Darussalam', 'BN', None], ['Bulgaria', 'BG', 7277916], ['Burkina Faso', 'BF', None], ['Burundi', 'BI', 10295103], ['Cambodia', 'KH', 14955433], ['Cameroon', 'CM', 21935701], ['Canada', 'CA', 35051051], ['Cape Verde', 'CV', None], ['Cayman Islands', 'KY', None], ['Central African Republic', 'CF', None], ['Chad', 'TD', 12930301], ['Chile', 'CL', 17482537], ['China', 'CN', 1358996659], ['Christmas Island', 'CX', None], ['Cocos (Keeling) Islands', 'CC', None], ['Colombia', 'CO', 47115236], ['Comoros', 'KM', 742697], ['Congo', 'CG', 4340463], ['Congo, the Democratic Republic of the', 'CD', None], ['Cook Islands', 'CK', None], ['Costa Rica', 'CR', None], [\"Côte d'Ivoire\", 'CI', None], ['Croatia', 'HR', 4279134], ['Cuba', 'CU', 11352634], ['Curaçao', 'CW', None], ['Cyprus', 'CY', 1135558], ['Czech Republic', 'CZ', None], ['Denmark', 'DK', 5612862], ['Djibouti', 'DJ', 858828], ['Dominica', 'DM', None], ['Dominican Republic', 'DO', None], ['Ecuador', 'EC', 15541182], ['Egypt', 'EG', None], ['El Salvador', 'SV', None], ['Equatorial Guinea', 'GQ', None], ['Eritrea', 'ER', 4945372], ['Estonia', 'EE', 1322026], ['Ethiopia', 'ET', 93378602], ['Falkland Islands (Malvinas)', 'FK', None], ['Faroe Islands', 'FO', None], ['Fiji', 'FJ', 877401], ['Finland', 'FI', 5439070], ['France', 'FR', 63703719], ['French Guiana', 'GF', None], ['French Polynesia', 'PF', None], ['French Southern Territories', 'TF', None], ['Gabon', 'GA', 1631956], ['Gambia', 'GM', None], ['Georgia', 'GE', 4109907], ['Germany', 'DE', 80519251], ['Ghana', 'GH', 25855970], ['Gibraltar', 'GI', None], ['Greece', 'GR', 11082710], ['Greenland', 'GL', None], ['Grenada', 'GD', 105686], ['Guadeloupe', 'GP', 462235], ['Guam', 'GU', 163943], ['Guatemala', 'GT', 15530564], ['Guernsey', 'GG', None], ['Guinea', 'GN', 11788814], ['Guinea-Bissau', 'GW', 1735853], ['Guyana', 'GY', 759705], ['Haiti', 'HT', 10360715], ['Heard Island and McDonald Islands', 'HM', None], ['Holy See (Vatican City State)', 'VA', None], ['Honduras', 'HN', 7793160], ['Hong Kong', 'HK', None], ['Hungary', 'HU', 9941544], ['Iceland', 'IS', 324433], ['India', 'IN', 1271630121], ['Indonesia', 'ID', 249666167], ['Iran, Islamic Republic of', 'IR', None], ['Iraq', 'IQ', 33531220], ['Ireland', 'IE', 4670269], ['Isle of Man', 'IM', None], ['Israel', 'IL', 7757068], ['Italy', 'IT', 59756012], ['Jamaica', 'JM', 2768114], ['Japan', 'JP', 127063358], ['Jersey', 'JE', None], ['Jordan', 'JO', 7107496], ['Kazakhstan', 'KZ', 16960952], ['Kenya', 'KE', 43118982], ['Kiribati', 'KI', 107586], [\"Korea, Democratic People's Republic of\", 'KP', None], ['Korea, Republic of', 'KR', None], ['Kuwait', 'KW', 3508549], ['Kyrgyzstan', 'KG', None], [\"Lao People's Democratic Republic\", 'LA', None], ['Latvia', 'LV', 2024138], ['Lebanon', 'LB', 5107423], ['Lesotho', 'LS', 2070130], ['Liberia', 'LR', 4242789], ['Libya', 'LY', 6274712], ['Liechtenstein', 'LI', None], ['Lithuania', 'LT', 2989433], ['Luxembourg', 'LU', 538775], ['Macao', 'MO', None], ['Macedonia, the Former Yugoslav Republic of', 'MK', None], ['Madagascar', 'MG', 22609081], ['Malawi', 'MW', 15944869], ['Malaysia', 'MY', 29246098], ['Maldives', 'MV', 347974], ['Mali', 'ML', 16352320], ['Malta', 'MT', 416207], ['Marshall Islands', 'MH', None], ['Martinique', 'MQ', 395358], ['Mauritania', 'MR', 3824995], ['Mauritius', 'MU', 1260999], ['Mayotte', 'YT', 224253], ['Mexico', 'MX', 122914842], ['Micronesia, Federated States of', 'FM', None], ['Moldova, Republic of', 'MD', None], ['Monaco', 'MC', None], ['Mongolia', 'MN', 2833769], ['Montenegro', 'ME', 624275], ['Montserrat', 'MS', None], ['Morocco', 'MA', 33218577], ['Mozambique', 'MZ', 26100257], ['Myanmar', 'MM', 52764071], ['Namibia', nan, 2318972], ['Nauru', 'NR', None], ['Nepal', 'NP', 27668050], ['Netherlands', 'NL', None], ['New Caledonia', 'NC', None], ['New Zealand', 'NZ', None], ['Nicaragua', 'NI', 5911999], ['Niger', 'NE', 17992695], ['Nigeria', 'NG', 170530420], ['Niue', 'NU', None], ['Norfolk Island', 'NF', None], ['Northern Mariana Islands', 'MP', None], ['Norway', 'NO', 5051176], ['Oman', 'OM', 3728160], ['Pakistan', 'PK', 179299402], ['Palau', 'PW', None], ['Palestine, State of', 'PS', None], ['Panama', 'PA', 3774624], ['Papua New Guinea', 'PG', None], ['Paraguay', 'PY', 6421545], ['Peru', 'PE', 30365522], ['Philippines', 'PH', 96794445], ['Pitcairn', 'PN', None], ['Poland', 'PL', 38614754], ['Portugal', 'PT', 10484000], ['Puerto Rico', 'PR', None], ['Qatar', 'QA', 2061317], ['Réunion', 'RE', None], ['Romania', 'RO', 19870574], ['Russian Federation', 'RU', None], ['Rwanda', 'RW', 10948115], ['Saint Barthélemy', 'BL', None], ['Saint Helena, Ascension and Tristan da Cunha', 'SH', None], ['Saint Kitts and Nevis', 'KN', None], ['Saint Lucia', 'LC', None], ['Saint Martin (French part)', 'MF', None], ['Saint Pierre and Miquelon', 'PM', None], ['Saint Vincent and the Grenadines', 'VC', None], ['Samoa', 'WS', 189663], ['San Marino', 'SM', None], ['Sao Tome and Principe', 'ST', None], ['Saudi Arabia', 'SA', None], ['Senegal', 'SN', 14000856], ['Serbia', 'RS', 8958167], ['Seychelles', 'SC', 94866], ['Sierra Leone', 'SL', None], ['Singapore', 'SG', 5353109], ['Sint Maarten (Dutch part)', 'SX', None], ['Slovakia', 'SK', None], ['Slovenia', 'SI', 2063988], ['Solomon Islands', 'SB', None], ['Somalia', 'SO', 10150182], ['South Africa', 'ZA', None], ['South Georgia and the South Sandwich Islands', 'GS', None], ['South Sudan', 'SS', None], ['Spain', 'ES', 46553081], ['Sri Lanka', 'LK', None], ['Sudan', 'SD', 38113206], ['Suriname', 'SR', 531016], ['Svalbard and Jan Mayen', 'SJ', None], ['Swaziland', 'SZ', 1241077], ['Sweden', 'SE', 9583430], ['Switzerland', 'CH', 8072097], ['Syrian Arab Republic', 'SY', None], ['Taiwan, Province of China', 'TW', None], ['Tajikistan', 'TJ', 8018947], ['Tanzania, United Republic of', 'TZ', None], ['Thailand', 'TH', 67311712], ['Timor-Leste', 'TL', 1115614], ['Togo', 'TG', 6835559], ['Tokelau', 'TK', None], ['Tonga', 'TO', 104914], ['Trinidad and Tobago', 'TT', None], ['Tunisia', 'TN', 10942439], ['Turkey', 'TR', 75541735], ['Turkmenistan', 'TM', 5207419], ['Turks and Caicos Islands', 'TC', None], ['Tuvalu', 'TV', None], ['Uganda', 'UG', 35985008], ['Ukraine', 'UA', 45240248], ['United Arab Emirates', 'AE', None], ['United Kingdom', 'GB', None], ['United States', 'US', None], ['United States Minor Outlying Islands', 'UM', None], ['Uruguay', 'UY', 3402313], ['Uzbekistan', 'UZ', 28813633], ['Vanuatu', 'VU', 250348], ['Venezuela, Bolivarian Republic of', 'VE', None], ['Viet Nam', 'VN', None], ['Virgin Islands, British', 'VG', None], ['Virgin Islands, U.S.', 'VI', None], ['Wallis and Futuna', 'WF', None], ['Western Sahara', 'EH', None], ['Yemen', 'YE', None], ['Zambia', 'ZM', 15013941], ['Zimbabwe', 'ZW', 14730626]]\n"
     ]
    }
   ],
   "source": [
    "#EXTRACTING DATA AND CONVERTING IT TO A 1-DIMENSIONAL ARRAY\n",
    "\n",
    "with urllib.request.urlopen(\"http://api.population.io:80/1.0/countries\") as url:\n",
    "    slash = \"/\"\n",
    "    api_data = json.loads(url.read().decode())\n",
    "    twoD_data = np.array(list(api_data.values())) #turns the dictionary into a 2D array\n",
    "    all_countries = twoD_data.ravel()\n",
    "    country_ready_for_fetch = []\n",
    "    \n",
    "#FORMATTING COUNTRIES FOR URL-CALLS LATER\n",
    "    \n",
    "country_code_data = pd.read_csv('https://pkgstore.datahub.io/core/country-list/data_csv/data/d7c9d7cfb42cb69f4422dec222dbbaa8/data_csv.csv')\n",
    "df1 = country_code_data[['Name','Code']]\n",
    "df2 = country_code_data[['Code']]\n",
    "\n",
    "country_and_countrycodes = df1.values\n",
    "countrycodesTwoD = df2.values\n",
    "countrycodes = countrycodesTwoD.ravel()\n",
    "\n",
    "chained_country_list = set(itertools.chain.from_iterable(country_and_countrycodes)) & set(all_countries)\n",
    "\n",
    "\n",
    "\n",
    "for country in chained_country_list:\n",
    "    try:\n",
    "        if '/' not in country:\n",
    "            j = country.replace(\" \",\"%20\")\n",
    "            country_ready_for_fetch.append(j)\n",
    "                \n",
    "    except AttributeError:\n",
    "        pass\n",
    "    \n",
    "#EXTRACTING THE POPULATION DATA\n",
    "\n",
    "date = '/2013-01-01'\n",
    "\n",
    "country_population = []\n",
    "\n",
    "for population in country_ready_for_fetch:\n",
    "    url = \"http://api.population.io:80/1.0/population/\"\n",
    "\n",
    "    with urllib.request.urlopen(url + population + date) as url:\n",
    "        data = json.loads(url.read().decode())\n",
    "        country_population.append(population)\n",
    "        country_population.append(data)\n",
    "        \n",
    "\n",
    "result = {}\n",
    "\n",
    "for i in range(0, len(country_population), 2):\n",
    "    result[country_population[i]] = country_population[i+1]['total_population']['population']\n",
    "\n",
    "#print(country_and_countrycodes)\n",
    "\n",
    "l = np.array(country_and_countrycodes).tolist()\n",
    "\n",
    "for i in l:\n",
    "    i.append(result.get(i[0]))\n",
    "print(l)"
   ]
  },
  {
   "cell_type": "code",
   "execution_count": null,
   "metadata": {},
   "outputs": [],
   "source": []
  }
 ],
 "metadata": {
  "kernelspec": {
   "display_name": "Python 3",
   "language": "python",
   "name": "python3"
  },
  "language_info": {
   "codemirror_mode": {
    "name": "ipython",
    "version": 3
   },
   "file_extension": ".py",
   "mimetype": "text/x-python",
   "name": "python",
   "nbconvert_exporter": "python",
   "pygments_lexer": "ipython3",
   "version": "3.6.4"
  }
 },
 "nbformat": 4,
 "nbformat_minor": 2
}
